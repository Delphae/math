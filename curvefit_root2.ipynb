{
  "cells": [
    {
      "metadata": {
        "trusted": true
      },
      "cell_type": "code",
      "source": "import scipy.optimize as opt",
      "execution_count": 1,
      "outputs": []
    },
    {
      "metadata": {
        "trusted": true
      },
      "cell_type": "code",
      "source": "%pylab inline",
      "execution_count": 2,
      "outputs": [
        {
          "output_type": "stream",
          "text": "Populating the interactive namespace from numpy and matplotlib\n",
          "name": "stdout"
        }
      ]
    },
    {
      "metadata": {
        "trusted": true
      },
      "cell_type": "code",
      "source": "def func(x, a,c):\n    return c * np.exp(a*x)",
      "execution_count": 3,
      "outputs": []
    },
    {
      "metadata": {
        "trusted": true
      },
      "cell_type": "code",
      "source": "x = np.linspace(-1, 1, 100)\ny = func(x, 3.1, 1.2)\n#plt.plot(x, y)\n\n\nsample = np.random.randint(len(x), size=100)\nxs = x[sample]\nys = y[sample]\nys += np.random.normal(0, 2, len(ys))\nplt.plot(xs, ys, 'r.')\n\n\n\nplt.grid();",
      "execution_count": 77,
      "outputs": [
        {
          "output_type": "display_data",
          "data": {
            "image/png": "[encoded data removed]",
            "text/plain": "<Figure size 432x288 with 1 Axes>"
          },
          "metadata": {
            "needs_background": "light"
          }
        }
      ]
    },
    {
      "metadata": {
        "trusted": true
      },
      "cell_type": "code",
      "source": "results = list()",
      "execution_count": 78,
      "outputs": []
    },
    {
      "metadata": {},
      "cell_type": "markdown",
      "source": "### curve fit"
    },
    {
      "metadata": {
        "trusted": true
      },
      "cell_type": "code",
      "source": "params, _ = opt.curve_fit(func, xs, ys)\nprint ('parameters ', params)\n\nssq = np.sum((func(xs, *params)-ys)**2)\nprint ('ssq ', ssq)\n\n\nresults.append(dict(method='curvefit', params=params, ssq=ssq))",
      "execution_count": 79,
      "outputs": [
        {
          "output_type": "stream",
          "text": "parameters  [3.18791938 1.14004286]\nssq  352.2047646121165\n",
          "name": "stdout"
        }
      ]
    },
    {
      "metadata": {},
      "cell_type": "markdown",
      "source": "### minimize ssq"
    },
    {
      "metadata": {
        "trusted": true
      },
      "cell_type": "code",
      "source": "def minmodel(vec):\n    a, c = vec\n    return np.sum((func(xs, *vec) - ys)**2)\n\nsolution = opt.minimize(minmodel, [2.7, 0.6])\nparams = solution.x\nprint ('parameters ', params)\n\nssq = np.sum((func(xs, *params)-ys)**2)\nprint ('ssq ', ssq)\n\nresults.append(dict(method='minssq', params=params, ssq=ssq))",
      "execution_count": 80,
      "outputs": [
        {
          "output_type": "stream",
          "text": "parameters  [3.18791937 1.14004287]\nssq  352.2047646121165\n",
          "name": "stdout"
        }
      ]
    },
    {
      "metadata": {},
      "cell_type": "markdown",
      "source": "### partial differentials"
    },
    {
      "metadata": {
        "trusted": true
      },
      "cell_type": "code",
      "source": "a, c = 2.7, 0.7\n\ndef rootmodel(vec):\n    a, c = vec\n    dc = np.sum([(func(x, a,c)-y)*np.exp(a*x) for (x,y) in zip(xs,ys)])\n    da = np.sum([(func(x, a,c)-y)*c*np.exp(a*x)*x for (x,y) in zip(xs,ys)])\n    return [da, dc]\n\nroots = opt.root(rootmodel, [3, 1])\nparams = roots.x\nprint (roots.message)\nprint (roots.success)\nprint ('parameters ', params)\n\nssq = np.sum((func(xs, *params)-ys)**2)\nprint ('ssq ', ssq)\n\nresults.append(dict(method='partdiff', params=params, ssq=ssq))",
      "execution_count": 81,
      "outputs": [
        {
          "output_type": "stream",
          "text": "The solution converged.\nTrue\nparameters  [3.18791941 1.14004284]\nssq  352.20476461211643\n",
          "name": "stdout"
        }
      ]
    },
    {
      "metadata": {},
      "cell_type": "markdown",
      "source": "### compare methods"
    },
    {
      "metadata": {
        "trusted": true
      },
      "cell_type": "code",
      "source": "sorted(results, key=lambda x: x['ssq'])",
      "execution_count": 82,
      "outputs": [
        {
          "output_type": "execute_result",
          "execution_count": 82,
          "data": {
            "text/plain": "[{'method': 'partdiff',\n  'params': array([3.18791941, 1.14004284]),\n  'ssq': 352.20476461211643},\n {'method': 'curvefit',\n  'params': array([3.18791938, 1.14004286]),\n  'ssq': 352.2047646121165},\n {'method': 'minssq',\n  'params': array([3.18791937, 1.14004287]),\n  'ssq': 352.2047646121165}]"
          },
          "metadata": {}
        }
      ]
    },
    {
      "metadata": {
        "trusted": true
      },
      "cell_type": "code",
      "source": "bestparams = sorted(results, key=lambda x: x['ssq'])[0]['params']\nbestparams",
      "execution_count": 83,
      "outputs": [
        {
          "output_type": "execute_result",
          "execution_count": 83,
          "data": {
            "text/plain": "array([3.18791941, 1.14004284])"
          },
          "metadata": {}
        }
      ]
    },
    {
      "metadata": {
        "trusted": true
      },
      "cell_type": "code",
      "source": "plt.plot(x, y, ':', color='C1', label='org')\nplt.plot(xs, ys, 'r.')\n\nyfit = func(x, *bestparams)\nplt.plot(x, yfit, '-.', color='C2', label='fit')\n\nplt.grid();\nplt.legend();",
      "execution_count": 84,
      "outputs": [
        {
          "output_type": "display_data",
          "data": {
            "image/png": "[encoded data removed]",
            "text/plain": "<Figure size 432x288 with 1 Axes>"
          },
          "metadata": {
            "needs_background": "light"
          }
        }
      ]
    },
    {
      "metadata": {
        "trusted": true
      },
      "cell_type": "code",
      "source": "",
      "execution_count": null,
      "outputs": []
    }
  ],
  "metadata": {
    "kernelspec": {
      "name": "python36",
      "display_name": "Python 3.6",
      "language": "python"
    },
    "language_info": {
      "mimetype": "text/x-python",
      "nbconvert_exporter": "python",
      "name": "python",
      "pygments_lexer": "ipython3",
      "version": "3.6.6",
      "file_extension": ".py",
      "codemirror_mode": {
        "version": 3,
        "name": "ipython"
      }
    }
  },
  "nbformat": 4,
  "nbformat_minor": 2
}