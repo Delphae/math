{
 "cells": [
  {
   "cell_type": "code",
   "execution_count": 12,
   "metadata": {},
   "outputs": [],
   "source": [
    "import numpy as np\n",
    "import scipy.stats as st\n",
    "import scipy.optimize as opt\n",
    "import matplotlib.pyplot as plt\n",
    "%matplotlib inline"
   ]
  },
  {
   "cell_type": "code",
   "execution_count": 69,
   "metadata": {},
   "outputs": [],
   "source": [
    "X = np.random.normal(loc=13.5, scale=6.85, size=600)\n",
    "X = np.round(X, 0)\n",
    "\n",
    "absfreq, bins = np.histogram(X, bins=range(-20, 50))\n",
    "\n",
    "N = sum(absfreq)\n",
    "relfreq = np.cumsum(absfreq/N)\n",
    "\n",
    "k = bins[:-1]"
   ]
  },
  {
   "cell_type": "code",
   "execution_count": 70,
   "metadata": {},
   "outputs": [
    {
     "data": {
      "image/png": "[encoded data removed]",
      "text/plain": [
       "<Figure size 432x288 with 1 Axes>"
      ]
     },
     "metadata": {
      "needs_background": "light"
     },
     "output_type": "display_data"
    }
   ],
   "source": [
    "plt.plot(k, relfreq, 'o', ms=3, label='cum. rel. freq.');\n",
    "plt.legend();"
   ]
  },
  {
   "cell_type": "markdown",
   "metadata": {},
   "source": [
    "### least square method"
   ]
  },
  {
   "cell_type": "code",
   "execution_count": 71,
   "metadata": {},
   "outputs": [
    {
     "name": "stdout",
     "output_type": "stream",
     "text": [
      "[13.33132322  6.87899973]\n"
     ]
    },
    {
     "data": {
      "image/png": "[encoded data removed]",
      "text/plain": [
       "<Figure size 432x288 with 1 Axes>"
      ]
     },
     "metadata": {
      "needs_background": "light"
     },
     "output_type": "display_data"
    }
   ],
   "source": [
    "def residu(vec):\n",
    "    mu, s = vec\n",
    "    return st.norm.cdf(k, loc=mu, scale=s) - relfreq\n",
    "\n",
    "lsqsol = opt.least_squares(residu, [13, 6])\n",
    "print (lsqsol.x)\n",
    "mu, s = lsqsol.x\n",
    "\n",
    "plt.plot(k, relfreq, 'o', ms=3, label='cum. rel. freq.');\n",
    "\n",
    "\n",
    "x = np.linspace(min(k), max(k))\n",
    "y = st.norm.cdf(x, loc=mu, scale=s)\n",
    "plt.plot(x, y, '--', label='fit');\n",
    "\n",
    "\n",
    "plt.legend();"
   ]
  },
  {
   "cell_type": "markdown",
   "metadata": {},
   "source": [
    "### minimize method"
   ]
  },
  {
   "cell_type": "code",
   "execution_count": 85,
   "metadata": {},
   "outputs": [
    {
     "name": "stdout",
     "output_type": "stream",
     "text": [
      "[13.33131076  6.87899791]\n",
      "0.0011497198483766261\n"
     ]
    }
   ],
   "source": [
    "def model(vec):\n",
    "    return np.sum(residu(vec)**2)\n",
    "\n",
    "minmodel = opt.minimize(model, [13, 6])\n",
    "print (minmodel.x)\n",
    "print (np.sum(residu(minmodel.x)**2))\n"
   ]
  },
  {
   "cell_type": "markdown",
   "metadata": {},
   "source": [
    "### curve fit"
   ]
  },
  {
   "cell_type": "code",
   "execution_count": 83,
   "metadata": {},
   "outputs": [
    {
     "name": "stdout",
     "output_type": "stream",
     "text": [
      "[13.33132322  6.87899973]\n",
      "0.0011497198418555354\n"
     ]
    }
   ],
   "source": [
    "def func(k, mu,s):\n",
    "    return st.norm.cdf(k, loc=mu, scale=s)\n",
    "\n",
    "params, _ = opt.curve_fit(func, k, relfreq, [13,6])\n",
    "print (params)\n",
    "print (np.sum(residu(params)**2))"
   ]
  },
  {
   "cell_type": "markdown",
   "metadata": {},
   "source": [
    "### distribution fit"
   ]
  },
  {
   "cell_type": "code",
   "execution_count": 82,
   "metadata": {},
   "outputs": [
    {
     "name": "stdout",
     "output_type": "stream",
     "text": [
      "13.876666666666667 7.010096686605368\n",
      "0.013552821039265606\n"
     ]
    }
   ],
   "source": [
    "mufit, sfit = st.norm.fit(X)\n",
    "print (mufit, sfit)\n",
    "print (np.sum(residu([mufit,sfit])**2))"
   ]
  },
  {
   "cell_type": "code",
   "execution_count": null,
   "metadata": {},
   "outputs": [],
   "source": []
  }
 ],
 "metadata": {
  "kernelspec": {
   "display_name": "Python 3",
   "language": "python",
   "name": "python3"
  },
  "language_info": {
   "codemirror_mode": {
    "name": "ipython",
    "version": 3
   },
   "file_extension": ".py",
   "mimetype": "text/x-python",
   "name": "python",
   "nbconvert_exporter": "python",
   "pygments_lexer": "ipython3",
   "version": "3.7.3"
  }
 },
 "nbformat": 4,
 "nbformat_minor": 2
}
