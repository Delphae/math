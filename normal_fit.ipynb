{
 "cells": [
  {
   "cell_type": "code",
   "execution_count": 12,
   "metadata": {},
   "outputs": [],
   "source": [
    "import numpy as np\n",
    "import scipy.stats as st\n",
    "import scipy.optimize as opt\n",
    "import matplotlib.pyplot as plt\n",
    "%matplotlib inline"
   ]
  },
  {
   "cell_type": "code",
   "execution_count": 105,
   "metadata": {},
   "outputs": [
    {
     "name": "stdout",
     "output_type": "stream",
     "text": [
      "19\n"
     ]
    }
   ],
   "source": [
    "X = np.random.normal(loc=181, scale=2.7, size=600)\n",
    "X = np.round(X, 0)\n",
    "\n",
    "absfreq, bins = np.histogram(X, bins=range(170, 190))\n",
    "\n",
    "N = sum(absfreq)\n",
    "relfreq = np.cumsum(absfreq/N)\n",
    "\n",
    "k = bins[:-1]\n",
    "print (len(k))"
   ]
  },
  {
   "cell_type": "markdown",
   "metadata": {},
   "source": [
    "### least square method"
   ]
  },
  {
   "cell_type": "code",
   "execution_count": 106,
   "metadata": {},
   "outputs": [
    {
     "name": "stdout",
     "output_type": "stream",
     "text": [
      "[180.58476044   2.64738049]\n"
     ]
    }
   ],
   "source": [
    "def residu(vec):\n",
    "    mu, s = vec\n",
    "    return st.norm.cdf(k, loc=mu, scale=s) - relfreq\n",
    "\n",
    "lsqsol = opt.least_squares(residu, [180, 2])\n",
    "print (lsqsol.x)\n",
    "mu, s = lsqsol.x\n"
   ]
  },
  {
   "cell_type": "markdown",
   "metadata": {},
   "source": [
    "### minimize method"
   ]
  },
  {
   "cell_type": "code",
   "execution_count": 107,
   "metadata": {},
   "outputs": [
    {
     "name": "stdout",
     "output_type": "stream",
     "text": [
      "[180.58475705   2.64738141]\n",
      "0.0018178351093241522\n"
     ]
    }
   ],
   "source": [
    "def model(vec):\n",
    "    return np.sum(residu(vec)**2)\n",
    "\n",
    "minmodel = opt.minimize(model, [180,2])\n",
    "print (minmodel.x)\n",
    "print (np.sum(residu(minmodel.x)**2))\n"
   ]
  },
  {
   "cell_type": "markdown",
   "metadata": {},
   "source": [
    "### curve fit"
   ]
  },
  {
   "cell_type": "code",
   "execution_count": 108,
   "metadata": {},
   "outputs": [
    {
     "name": "stdout",
     "output_type": "stream",
     "text": [
      "[180.58476044   2.64738049]\n",
      "0.0018178351079756083\n"
     ]
    }
   ],
   "source": [
    "def func(k, mu,s):\n",
    "    return st.norm.cdf(k, loc=mu, scale=s)\n",
    "\n",
    "params, _ = opt.curve_fit(func, k, relfreq, [180,2])\n",
    "print (params)\n",
    "print (np.sum(residu(params)**2))"
   ]
  },
  {
   "cell_type": "markdown",
   "metadata": {},
   "source": [
    "### distribution fit"
   ]
  },
  {
   "cell_type": "code",
   "execution_count": 109,
   "metadata": {},
   "outputs": [
    {
     "name": "stdout",
     "output_type": "stream",
     "text": [
      "181.14 2.624957142507283\n",
      "0.034778522335458674\n"
     ]
    }
   ],
   "source": [
    "mufit, sfit = st.norm.fit(X)\n",
    "print (mufit, sfit)\n",
    "print (np.sum(residu([mufit,sfit])**2))"
   ]
  },
  {
   "cell_type": "code",
   "execution_count": 110,
   "metadata": {},
   "outputs": [
    {
     "data": {
      "image/png": "[encoded data removed]",
      "text/plain": [
       "<Figure size 432x288 with 1 Axes>"
      ]
     },
     "metadata": {
      "needs_background": "light"
     },
     "output_type": "display_data"
    }
   ],
   "source": [
    "plt.plot(k, relfreq, 'o', label='cum. rel. freq.');\n",
    "\n",
    "x = np.linspace(min(k), max(k))\n",
    "y1 = st.norm.cdf(x, loc=mu, scale=s)\n",
    "plt.plot(x, y1, '--', label='leastsquare fit');\n",
    "\n",
    "y2 = st.norm.cdf(x, loc=mufit, scale=sfit)\n",
    "plt.plot(x, y2, '--', label='distribution fit');\n",
    "\n",
    "plt.legend();"
   ]
  },
  {
   "cell_type": "code",
   "execution_count": null,
   "metadata": {},
   "outputs": [],
   "source": []
  },
  {
   "cell_type": "code",
   "execution_count": null,
   "metadata": {},
   "outputs": [],
   "source": []
  }
 ],
 "metadata": {
  "kernelspec": {
   "display_name": "Python 3",
   "language": "python",
   "name": "python3"
  },
  "language_info": {
   "codemirror_mode": {
    "name": "ipython",
    "version": 3
   },
   "file_extension": ".py",
   "mimetype": "text/x-python",
   "name": "python",
   "nbconvert_exporter": "python",
   "pygments_lexer": "ipython3",
   "version": "3.7.3"
  }
 },
 "nbformat": 4,
 "nbformat_minor": 2
}
