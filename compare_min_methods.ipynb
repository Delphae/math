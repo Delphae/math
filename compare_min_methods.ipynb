{
 "cells": [
  {
   "cell_type": "code",
   "execution_count": 18,
   "metadata": {},
   "outputs": [],
   "source": [
    "import scipy.stats as st\n",
    "import scipy.optimize as opt"
   ]
  },
  {
   "cell_type": "code",
   "execution_count": 29,
   "metadata": {},
   "outputs": [
    {
     "name": "stdout",
     "output_type": "stream",
     "text": [
      "[ 6.46230859 10.15110454  7.73874059  8.69713967  8.21376875  7.45179805\n",
      "  9.87769114 10.12902769 10.8202259   8.85423502  8.39733275 12.62407038\n",
      " 12.54939775  7.57128479 10.62743881  7.11035717  9.2620774   8.46154685\n",
      " 10.78523221 10.11458767]\n"
     ]
    }
   ],
   "source": [
    "np.random.seed(2020)\n",
    "X = np.random.normal(10, 2, size=1000)\n",
    "print (X[:20])"
   ]
  },
  {
   "cell_type": "code",
   "execution_count": 55,
   "metadata": {},
   "outputs": [],
   "source": [
    "def model(vec):\n",
    "    m, s = vec\n",
    "    return np.sum(st.norm.logpdf(X, loc=m, scale=s))\n",
    "\n",
    "vec0 = [10, 2]\n",
    "results = list()\n",
    "\n",
    "methods = ['Nelder-Mead', 'Powell', 'SLSQP', 'TNC']"
   ]
  },
  {
   "cell_type": "code",
   "execution_count": 57,
   "metadata": {},
   "outputs": [],
   "source": [
    "for method in methods:\n",
    "    result = opt.minimize(lambda vec: -model(vec), vec0, method=method)\n",
    "    results.append(result)"
   ]
  },
  {
   "cell_type": "code",
   "execution_count": 62,
   "metadata": {},
   "outputs": [
    {
     "name": "stdout",
     "output_type": "stream",
     "text": [
      "Nelder-Mead  [-2.04973439e-05 -1.17531677e-05]\n",
      "Powell       [ 3.02948848e-08 -3.73681146e-08]\n",
      "SLSQP        [3.06559851e-06 7.94678619e-06]\n",
      "TNC          [3.63627796e-07 7.50203328e-07]\n"
     ]
    }
   ],
   "source": [
    "for (method,result) in zip(methods,results):\n",
    "    print ('%-12s %s' % (method, result.x - [X.mean(), X.std()]))"
   ]
  },
  {
   "cell_type": "code",
   "execution_count": 66,
   "metadata": {},
   "outputs": [
    {
     "name": "stdout",
     "output_type": "stream",
     "text": [
      "[9.93311726 1.94874349]\n",
      "[9.93311723 1.94874353]\n"
     ]
    }
   ],
   "source": [
    "result = opt.minimize(lambda vec: -model(vec), vec0, method='Powell')\n",
    "print (result.x)\n",
    "print ('[%.8f %.8f]' % (X.mean(), X.std()))"
   ]
  },
  {
   "cell_type": "code",
   "execution_count": null,
   "metadata": {},
   "outputs": [],
   "source": []
  }
 ],
 "metadata": {
  "kernelspec": {
   "display_name": "Python 3",
   "language": "python",
   "name": "python3"
  },
  "language_info": {
   "codemirror_mode": {
    "name": "ipython",
    "version": 3
   },
   "file_extension": ".py",
   "mimetype": "text/x-python",
   "name": "python",
   "nbconvert_exporter": "python",
   "pygments_lexer": "ipython3",
   "version": "3.7.3"
  }
 },
 "nbformat": 4,
 "nbformat_minor": 2
}
