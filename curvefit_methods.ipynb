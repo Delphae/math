{
 "cells": [
  {
   "cell_type": "code",
   "execution_count": 1,
   "metadata": {},
   "outputs": [],
   "source": [
    "import scipy.optimize as opt"
   ]
  },
  {
   "cell_type": "code",
   "execution_count": 2,
   "metadata": {},
   "outputs": [
    {
     "name": "stdout",
     "output_type": "stream",
     "text": [
      "Populating the interactive namespace from numpy and matplotlib\n"
     ]
    }
   ],
   "source": [
    "%pylab inline"
   ]
  },
  {
   "cell_type": "code",
   "execution_count": 3,
   "metadata": {},
   "outputs": [],
   "source": [
    "def func(x, a,c):\n",
    "    return c * np.exp(a*x)"
   ]
  },
  {
   "cell_type": "code",
   "execution_count": 4,
   "metadata": {},
   "outputs": [
    {
     "data": {
      "image/png": "[encoded data removed]",
      "text/plain": [
       "<Figure size 432x288 with 1 Axes>"
      ]
     },
     "metadata": {
      "needs_background": "light"
     },
     "output_type": "display_data"
    }
   ],
   "source": [
    "x = np.linspace(-1, 1, 100)\n",
    "y = func(x, 3.1, 1.2)\n",
    "#plt.plot(x, y)\n",
    "\n",
    "\n",
    "sample = np.random.randint(len(x), size=100)\n",
    "xs = x[sample]\n",
    "ys = y[sample]\n",
    "ys += np.random.normal(0, 2, len(ys))\n",
    "plt.plot(xs, ys, 'r.')\n",
    "\n",
    "\n",
    "\n",
    "plt.grid();"
   ]
  },
  {
   "cell_type": "code",
   "execution_count": 19,
   "metadata": {},
   "outputs": [],
   "source": [
    "results = list()"
   ]
  },
  {
   "cell_type": "markdown",
   "metadata": {},
   "source": [
    "### curve fit"
   ]
  },
  {
   "cell_type": "code",
   "execution_count": 20,
   "metadata": {},
   "outputs": [
    {
     "name": "stdout",
     "output_type": "stream",
     "text": [
      "parameters  [2.86829634 1.51849843]\n",
      "ssq  305.0734534680407\n"
     ]
    }
   ],
   "source": [
    "params, _ = opt.curve_fit(func, xs, ys)\n",
    "print ('parameters ', params)\n",
    "\n",
    "ssq = np.sum((func(xs, *params)-ys)**2)\n",
    "print ('ssq ', ssq)\n",
    "\n",
    "\n",
    "results.append(dict(method='curvefit', params=params, ssq=ssq))"
   ]
  },
  {
   "cell_type": "markdown",
   "metadata": {},
   "source": [
    "### minimize ssq"
   ]
  },
  {
   "cell_type": "code",
   "execution_count": 21,
   "metadata": {},
   "outputs": [
    {
     "name": "stdout",
     "output_type": "stream",
     "text": [
      "parameters  [2.86829616 1.51849865]\n",
      "ssq  305.07345346803925\n"
     ]
    }
   ],
   "source": [
    "def minmodel(vec):\n",
    "    a, c = vec\n",
    "    return np.sum((func(xs, *vec) - ys)**2)\n",
    "\n",
    "solution = opt.minimize(minmodel, [2.7, 0.6])\n",
    "params = solution.x\n",
    "print ('parameters ', params)\n",
    "\n",
    "ssq = np.sum((func(xs, *params)-ys)**2)\n",
    "print ('ssq ', ssq)\n",
    "\n",
    "results.append(dict(method='minssq', params=params, ssq=ssq))"
   ]
  },
  {
   "cell_type": "markdown",
   "metadata": {},
   "source": [
    "### least square "
   ]
  },
  {
   "cell_type": "code",
   "execution_count": 22,
   "metadata": {},
   "outputs": [
    {
     "name": "stdout",
     "output_type": "stream",
     "text": [
      "parameters  [2.86829638 1.51849838]\n",
      "ssq  305.0734534680426\n"
     ]
    }
   ],
   "source": [
    "def residuals(vec):\n",
    "    return func(xs, *vec) - ys\n",
    "\n",
    "params, _ = opt.leastsq(residuals, [2.8, 1.5])\n",
    "print ('parameters ', params)\n",
    "\n",
    "ssq = np.sum((func(xs, *params)-ys)**2)\n",
    "print ('ssq ', ssq)\n",
    "\n",
    "results.append(dict(method='leastsq', params=params, ssq=ssq))"
   ]
  },
  {
   "cell_type": "markdown",
   "metadata": {},
   "source": [
    "### partial differentials"
   ]
  },
  {
   "cell_type": "code",
   "execution_count": 23,
   "metadata": {},
   "outputs": [
    {
     "name": "stdout",
     "output_type": "stream",
     "text": [
      "The solution converged.\n",
      "True\n",
      "parameters  [2.86829622 1.51849858]\n",
      "ssq  305.0734534680384\n"
     ]
    }
   ],
   "source": [
    "a, c = 2.7, 0.7\n",
    "\n",
    "def rootmodel(vec):\n",
    "    a, c = vec\n",
    "    dc = np.sum([(func(x, a,c)-y)*np.exp(a*x) for (x,y) in zip(xs,ys)])\n",
    "    da = np.sum([(func(x, a,c)-y)*c*np.exp(a*x)*x for (x,y) in zip(xs,ys)])\n",
    "    return [da, dc]\n",
    "\n",
    "roots = opt.root(rootmodel, [3, 1])\n",
    "params = roots.x\n",
    "print (roots.message)\n",
    "print (roots.success)\n",
    "print ('parameters ', params)\n",
    "\n",
    "ssq = np.sum((func(xs, *params)-ys)**2)\n",
    "print ('ssq ', ssq)\n",
    "\n",
    "results.append(dict(method='partdiff', params=params, ssq=ssq))"
   ]
  },
  {
   "cell_type": "markdown",
   "metadata": {},
   "source": [
    "### compare methods"
   ]
  },
  {
   "cell_type": "code",
   "execution_count": 24,
   "metadata": {},
   "outputs": [
    {
     "data": {
      "text/plain": [
       "[{'method': 'partdiff',\n",
       "  'params': array([2.86829622, 1.51849858]),\n",
       "  'ssq': 305.0734534680384},\n",
       " {'method': 'minssq',\n",
       "  'params': array([2.86829616, 1.51849865]),\n",
       "  'ssq': 305.07345346803925},\n",
       " {'method': 'curvefit',\n",
       "  'params': array([2.86829634, 1.51849843]),\n",
       "  'ssq': 305.0734534680407},\n",
       " {'method': 'leastsq',\n",
       "  'params': array([2.86829638, 1.51849838]),\n",
       "  'ssq': 305.0734534680426}]"
      ]
     },
     "execution_count": 24,
     "metadata": {},
     "output_type": "execute_result"
    }
   ],
   "source": [
    "sorted(results, key=lambda x: x['ssq'])"
   ]
  },
  {
   "cell_type": "code",
   "execution_count": 25,
   "metadata": {},
   "outputs": [
    {
     "data": {
      "text/plain": [
       "array([2.86829622, 1.51849858])"
      ]
     },
     "execution_count": 25,
     "metadata": {},
     "output_type": "execute_result"
    }
   ],
   "source": [
    "bestparams = sorted(results, key=lambda x: x['ssq'])[0]['params']\n",
    "bestparams"
   ]
  },
  {
   "cell_type": "code",
   "execution_count": 26,
   "metadata": {},
   "outputs": [
    {
     "data": {
      "image/png": "[encoded data removed]",
      "text/plain": [
       "<Figure size 432x288 with 1 Axes>"
      ]
     },
     "metadata": {
      "needs_background": "light"
     },
     "output_type": "display_data"
    }
   ],
   "source": [
    "plt.plot(x, y, ':', color='C1', label='org')\n",
    "plt.plot(xs, ys, 'r.')\n",
    "\n",
    "yfit = func(x, *bestparams)\n",
    "plt.plot(x, yfit, '-.', color='C2', label='fit')\n",
    "\n",
    "plt.grid();\n",
    "plt.legend();"
   ]
  },
  {
   "cell_type": "code",
   "execution_count": null,
   "metadata": {},
   "outputs": [],
   "source": []
  }
 ],
 "metadata": {
  "kernelspec": {
   "display_name": "Python 3.6",
   "language": "python",
   "name": "python36"
  },
  "language_info": {
   "codemirror_mode": {
    "name": "ipython",
    "version": 3
   },
   "file_extension": ".py",
   "mimetype": "text/x-python",
   "name": "python",
   "nbconvert_exporter": "python",
   "pygments_lexer": "ipython3",
   "version": "3.6.6"
  }
 },
 "nbformat": 4,
 "nbformat_minor": 2
}
